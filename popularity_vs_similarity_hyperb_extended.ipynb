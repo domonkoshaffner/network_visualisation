{
 "cells": [
  {
   "cell_type": "code",
   "execution_count": 1,
   "metadata": {},
   "outputs": [
    {
     "name": "stderr",
     "output_type": "stream",
     "text": [
      "C:\\Users\\Domonkos\\anaconda3\\lib\\site-packages\\numpy\\_distributor_init.py:30: UserWarning: loaded more than 1 DLL from .libs:\n",
      "C:\\Users\\Domonkos\\anaconda3\\lib\\site-packages\\numpy\\.libs\\libopenblas.PYQHXLVVQ7VESDPUVUADXEVJOBGHJPAY.gfortran-win_amd64.dll\n",
      "C:\\Users\\Domonkos\\anaconda3\\lib\\site-packages\\numpy\\.libs\\libopenblas.WCDJNK7YVMPZQ2ME2ZZHJJRJ3JIKNDB7.gfortran-win_amd64.dll\n",
      "  warnings.warn(\"loaded more than 1 DLL from .libs:\"\n"
     ]
    }
   ],
   "source": [
    "# Importing the neccessary libraries\n",
    "\n",
    "import numpy as np\n",
    "import pandas as pd\n",
    "import matplotlib.pyplot as plt\n",
    "import matplotlib.patches as mpatches\n",
    "import matplotlib as mpl\n",
    "\n",
    "from scipy import stats\n",
    "\n",
    "import networkx as nx\n",
    "import powerlaw\n",
    "\n",
    "import collections\n",
    "import random\n",
    "import heapq\n",
    "\n",
    "import math\n",
    "from math import pi"
   ]
  },
  {
   "cell_type": "markdown",
   "metadata": {},
   "source": [
    "## Functions\n",
    "#### Function for getting all the coordinates of a line between two points"
   ]
  },
  {
   "cell_type": "code",
   "execution_count": 2,
   "metadata": {},
   "outputs": [],
   "source": [
    "def intermediates(p1, p2, nb_points=8):\n",
    "    \n",
    "    x_spacing = (p2[0] - p1[0]) / (nb_points + 1)\n",
    "    y_spacing = (p2[1] - p1[1]) / (nb_points + 1)\n",
    "\n",
    "    return [[p1[0] + i * x_spacing, p1[1] +  i * y_spacing] \n",
    "            for i in range(1, nb_points+1)]"
   ]
  },
  {
   "cell_type": "markdown",
   "metadata": {},
   "source": [
    "#### Function for calculating the polar coordinates from the Cartesian coordinates"
   ]
  },
  {
   "cell_type": "code",
   "execution_count": 3,
   "metadata": {},
   "outputs": [],
   "source": [
    "def polar_coord(x, y):\n",
    "    \n",
    "    r = np.sqrt(x**2 + y**2)\n",
    "    \n",
    "    if y >= 0 and r != 0:\n",
    "        theta = math.acos(x/r)\n",
    "    elif y < 0:\n",
    "        theta = -math.acos(x/r)\n",
    "        \n",
    "    return [r, theta]"
   ]
  },
  {
   "cell_type": "markdown",
   "metadata": {},
   "source": [
    "#### Function for calculating the radial dst"
   ]
  },
  {
   "cell_type": "code",
   "execution_count": 4,
   "metadata": {},
   "outputs": [],
   "source": [
    "def radial_dst(theta1, theta2):\n",
    "    \n",
    "    if theta1 > 0 and theta2 > 0 or theta1 < 0 and theta2 < 0:\n",
    "        dst = abs(theta2 - theta1)\n",
    "    elif theta1 == 0 and theta2 > 0 or theta1 == 0 and theta2 < 0 or theta1 > 0 and theta2 == 0 or theta1 < 0 and theta2 == 0:\n",
    "        dst = abs(theta2 - theta1)\n",
    "    elif pi/2 >= theta1 > 0 and 0 > theta2 >= -pi/2 or pi/2 >= theta2 > 0 and 0 > theta1 >= -pi/2:\n",
    "        dst = abs(theta1) + abs(theta2)\n",
    "    elif pi/2 > theta1 >= 0 and -pi/2 > theta2 > -pi or pi/2 > theta2 >= 0 and -pi/2 > theta1 > -pi:\n",
    "        dst = abs(theta2) + abs(theta1)\n",
    "    elif 0 > theta1 >= -pi/2 and pi > theta2 > pi/2 or 0 > theta2 >= -pi/2 and pi > theta1 > pi/2:\n",
    "        dst = abs(theta2) + abs(theta1)\n",
    "    elif pi >= theta1 > pi/2 and -pi/2 > theta2 >= -pi:\n",
    "        dst = abs(pi - theta1) + abs(-pi - theta2)\n",
    "    elif pi >= theta2 > pi/2 and -pi/2 > theta1 >= -pi:\n",
    "        dst = abs(pi - theta2) + abs(-pi - theta1)\n",
    "    elif theta1 == 0 and theta2 == 0:\n",
    "        dst = 0\n",
    "    \n",
    "    return dst"
   ]
  },
  {
   "cell_type": "markdown",
   "metadata": {},
   "source": [
    "## Generating the circle"
   ]
  },
  {
   "cell_type": "code",
   "execution_count": 5,
   "metadata": {},
   "outputs": [],
   "source": [
    "# Setting the parameters of the circle\n",
    "\n",
    "t = np.array(range(0,int(round(2*math.pi, 3)*1000)))/1000\n",
    "r = 1\n",
    "a = 0\n",
    "b = 0\n",
    "\n",
    "# Creating the circle circumf.\n",
    "\n",
    "circumf_x = r * np.array([math.cos(i) for i in t]) + a\n",
    "circumf_y = r * np.array([math.sin(i) for i in t]) + b"
   ]
  },
  {
   "cell_type": "code",
   "execution_count": 6,
   "metadata": {},
   "outputs": [],
   "source": [
    "# Getting all the inner points of the circle\n",
    "\n",
    "inner_coord = []\n",
    "\n",
    "for i in range(0,len(circumf_x)):\n",
    "    inner_coord += intermediates([0,0], [circumf_x[i],circumf_y[i]], 100)\n",
    "    \n",
    "# Transforming the inner_coord list of lists into np.array\n",
    "\n",
    "inner_x = np.array(inner_coord).T[0]\n",
    "inner_y = np.array(inner_coord).T[1]\n",
    "\n",
    "# Appending all the x and y coordinates together\n",
    "\n",
    "all_x_coord = list(circumf_x) + list(inner_x)\n",
    "all_y_coord = list(circumf_y) + list(inner_y)"
   ]
  },
  {
   "cell_type": "code",
   "execution_count": 7,
   "metadata": {},
   "outputs": [],
   "source": [
    "# Generating the polar coordinates from the Cartesian coordinates\n",
    "\n",
    "r_values = []\n",
    "theta_values = []\n",
    "\n",
    "for i in range(0,len(all_x_coord)):\n",
    "    \n",
    "    temp = polar_coord(all_x_coord[i], all_y_coord[i])\n",
    "    \n",
    "    r_values.append(temp[0])\n",
    "    theta_values.append(temp[1])"
   ]
  },
  {
   "cell_type": "code",
   "execution_count": 8,
   "metadata": {},
   "outputs": [
    {
     "data": {
      "image/png": "[encoded data removed]",
      "text/plain": [
       "<Figure size 360x360 with 1 Axes>"
      ]
     },
     "metadata": {
      "needs_background": "light"
     },
     "output_type": "display_data"
    }
   ],
   "source": [
    "# Plotting the circle\n",
    "\n",
    "plt.figure(figsize = (5,5))\n",
    "plt.plot(all_x_coord, all_y_coord, color = 'firebrick', label = 'circle')\n",
    "\n",
    "plt.title('The generated circle with r = ' + str(r) + ', a = ' + str(a) + ', b = ' + str(b), fontsize = 16)\n",
    "plt.xlabel('x', fontsize = 14)\n",
    "plt.ylabel('y', fontsize = 14)\n",
    "\n",
    "plt.legend(fontsize = 14)\n",
    "plt.grid()\n",
    "plt.show()"
   ]
  },
  {
   "cell_type": "markdown",
   "metadata": {},
   "source": [
    "# Functions"
   ]
  },
  {
   "cell_type": "markdown",
   "metadata": {},
   "source": [
    "### Function for generating and adding nodes to the circle"
   ]
  },
  {
   "cell_type": "code",
   "execution_count": 9,
   "metadata": {},
   "outputs": [],
   "source": [
    "def generating_circle(m, beta, new_num_nodes_to_generate, all_x_coord, all_y_coord, r_values, theta_values):\n",
    "\n",
    "    # Creating lists to save the generated coordinates\n",
    "\n",
    "    generated_coordinates = []\n",
    "\n",
    "    # Saving all the generated numbers in a list\n",
    "\n",
    "    generated_random_nums = []\n",
    "\n",
    "    # Generating random numbers and placing them in the circle\n",
    "\n",
    "    for i in range(0,num_nodes_to_generate_first):\n",
    "\n",
    "        #random index\n",
    "        random_index = random.randint(0,len(all_x_coord))\n",
    "        generated_random_nums.append(random_index)\n",
    "\n",
    "        #saving the generated coordinates into a dictionary\n",
    "        temp = [all_x_coord[random_index], all_y_coord[random_index], r_values[random_index], theta_values[random_index]]\n",
    "\n",
    "        generated_coordinates.append((temp, (i+1), -999))\n",
    "\n",
    "\n",
    "    # Generating random numbers and placing them in the circle\n",
    "\n",
    "    for i in range(0,new_num_nodes_to_generate):\n",
    "\n",
    "        #random index\n",
    "        while random_index in generated_random_nums:\n",
    "            random_index = random.randint(0,len(all_x_coord))\n",
    "        generated_random_nums.append(random_index)\n",
    "\n",
    "        #getting the coordinates\n",
    "        temp = [all_x_coord[random_index], all_y_coord[random_index], r_values[random_index], theta_values[random_index]]\n",
    "\n",
    "        #creating temp list for the thetas\n",
    "        thetas_temp_list = []\n",
    "\n",
    "        #measuring the distance between the new node and all the previous nodes\n",
    "        for j in range(0,len(generated_coordinates)):\n",
    "\n",
    "            #calling the radial_dst func and saving the theta values in a list\n",
    "            thetas_temp_list.append(((j+1)**beta)*radial_dst(temp[3], generated_coordinates[j][0][3]))\n",
    "\n",
    "        #taking the min of angles and getting the closest node\n",
    "        min_theta_values_m = heapq.nsmallest(m, thetas_temp_list)\n",
    "\n",
    "        for k in min_theta_values_m:\n",
    "            closest_node = thetas_temp_list.index(k) + 1\n",
    "            #appending the new node to the generated coordinates\n",
    "            generated_coordinates.append((temp, (num_nodes_to_generate_first + i + 1), closest_node))\n",
    "            \n",
    "    return generated_coordinates"
   ]
  },
  {
   "cell_type": "markdown",
   "metadata": {},
   "source": [
    "### Function for plotting the results of the circle with nodes"
   ]
  },
  {
   "cell_type": "code",
   "execution_count": 10,
   "metadata": {
    "scrolled": false
   },
   "outputs": [],
   "source": [
    "def circle_plot(new_num_nodes_to_generate, inner_x, inner_y, circumf_x, circumf_y, generated_coordinates):\n",
    "\n",
    "    # Plotting the circle with the generated points\n",
    "\n",
    "    plt.figure(figsize = (10,10))\n",
    "\n",
    "    # Plotting the circle\n",
    "    plt.plot(inner_x, inner_y, color = 'gold', alpha = 0.1)\n",
    "    plt.plot(circumf_x, circumf_y, color = 'orange')\n",
    "\n",
    "    # Plotting the original nodes\n",
    "    for i in range(0,num_nodes_to_generate_first):\n",
    "        plt.plot(generated_coordinates[i][0][0], generated_coordinates[i][0][1], 'o', color = 'black', markersize = 5)\n",
    "\n",
    "    # Plotting the newly connected nodes\n",
    "    for i in range(1, len(generated_coordinates)):\n",
    "        plt.plot(generated_coordinates[i][0][0], generated_coordinates[i][0][1], 'o', color = 'firebrick', markersize = 5)\n",
    "        plt.plot([generated_coordinates[i][0][0], generated_coordinates[generated_coordinates[i][2]-1][0][0]], [generated_coordinates[i][0][1], generated_coordinates[generated_coordinates[i][2]-1][0][1]], color = 'black', linewidth = 0.2)\n",
    "\n",
    "    # Setting the title and labels\n",
    "    plt.title('The generated circle with r = ' + str(r) + ', m = ' + str(m) + ', beta = ' + str(beta) + ', nodes = ' + str(new_num_nodes_to_generate+1), fontsize = 16)\n",
    "    plt.xlabel('x', fontsize = 14)\n",
    "    plt.ylabel('y', fontsize = 14)\n",
    "\n",
    "    # Setting the grid\n",
    "    plt.grid()\n",
    "\n",
    "    plt.savefig('cirlce_network_' + str(beta) + '.jpg', dpi = 600)\n",
    "\n",
    "    plt.show()"
   ]
  },
  {
   "cell_type": "markdown",
   "metadata": {},
   "source": [
    "### Function for generating a corresponding network"
   ]
  },
  {
   "cell_type": "code",
   "execution_count": 11,
   "metadata": {},
   "outputs": [],
   "source": [
    "def network_gen(generated_coordinates):\n",
    "\n",
    "    # Getting the nodes and edges from the generated data set\n",
    "\n",
    "    nodes = [generated_coordinates[i][1] for i in range(0,len(generated_coordinates))]\n",
    "    edges = [generated_coordinates[i][2] for i in range(1,len(generated_coordinates))]\n",
    "\n",
    "    # Creating the graph\n",
    "\n",
    "    circle_graph = nx.Graph()\n",
    "\n",
    "    # Adding the nodes\n",
    "\n",
    "    for i in range(0,len(nodes)):\n",
    "        circle_graph.add_node(nodes[i])\n",
    "\n",
    "    # Adding the weights\n",
    "\n",
    "    for i in range(1,len(nodes)):\n",
    "        circle_graph.add_edge(nodes[i], edges[i-1])\n",
    "        \n",
    "    return circle_graph"
   ]
  },
  {
   "cell_type": "markdown",
   "metadata": {},
   "source": [
    "### Function for plotting the network layout"
   ]
  },
  {
   "cell_type": "code",
   "execution_count": 12,
   "metadata": {},
   "outputs": [],
   "source": [
    "def network_plot(graph):\n",
    "\n",
    "    # Plotting the graph\n",
    "\n",
    "    plt.figure(figsize = (9,9))\n",
    "\n",
    "    # Setting the layout\n",
    "\n",
    "    pos_cust = nx.kamada_kawai_layout(graph)\n",
    "\n",
    "    # Drawing the graph\n",
    "\n",
    "    nx.draw(graph, pos = pos_cust, node_color = 'firebrick', node_size=10, width = 0.5)\n",
    "\n",
    "    #plt.savefig('network_layout_circle.jpg', dpi=400)"
   ]
  },
  {
   "cell_type": "markdown",
   "metadata": {},
   "source": [
    "### Function for calculating the k and attractiveness values"
   ]
  },
  {
   "cell_type": "code",
   "execution_count": 13,
   "metadata": {},
   "outputs": [],
   "source": [
    "def attractiveness_calc(circle_graph):\n",
    "\n",
    "    # Degree distribution, connections\n",
    "\n",
    "    k = np.array(nx.degree(circle_graph)).T[1]\n",
    "\n",
    "    # Power law fit\n",
    "\n",
    "    fit = powerlaw.Fit(k)\n",
    "    gamma = fit.power_law.alpha\n",
    "    A = (gamma-2)*m\n",
    "\n",
    "    # Attractiveness\n",
    "\n",
    "    p_attr = []\n",
    "\n",
    "    for i in range(0,len(k)):\n",
    "        p_attr.append(m * (k[i] - m + A) / ((i+1) * (m + A)))\n",
    "\n",
    "    # Creating res dict for the values\n",
    "\n",
    "    res = {p_attr[i]: k[i] for i in range(len(p_attr))}\n",
    "\n",
    "    # Calculating the mean values of same degree nodes\n",
    "\n",
    "    new_values_k = []\n",
    "    new_keys_attr = []\n",
    "\n",
    "    for i in range(0,max(k)):\n",
    "\n",
    "        #getting the indices of the same elements\n",
    "        indices = [l for l, x in enumerate(list(res.values())) if x == i]\n",
    "\n",
    "        #if the indices list is not empty\n",
    "        if indices != []:\n",
    "\n",
    "            #initialising mean_value\n",
    "            mean_value = 0\n",
    "\n",
    "            #going through the indices\n",
    "            for j in range(0,len(indices)):\n",
    "                mean_value += p_attr[indices[j]]\n",
    "\n",
    "            #getting the mean value of the results\n",
    "            mean_value = mean_value / len(indices)\n",
    "\n",
    "            #appending the results\n",
    "            new_values_k.append(mean_value)\n",
    "            new_keys_attr.append(i)\n",
    "\n",
    "\n",
    "    # Normalising the results\n",
    "\n",
    "    new_keys_norm = np.array(new_keys_attr)/len(k)\n",
    "    \n",
    "    return [new_values_k, new_keys_norm]"
   ]
  },
  {
   "cell_type": "markdown",
   "metadata": {},
   "source": [
    "### Function for plotting the k- attractiveness function"
   ]
  },
  {
   "cell_type": "code",
   "execution_count": 14,
   "metadata": {
    "scrolled": false
   },
   "outputs": [],
   "source": [
    "def attr_k_plot(new_values_k, new_keys_norm):\n",
    "\n",
    "    # Fitting on the results\n",
    "\n",
    "    results = np.polyfit(np.log(new_values_k),np.log(new_keys_norm), 1)\n",
    "    R_squared = (stats.linregress(np.log(new_values_k),np.log(new_keys_norm)).rvalue)**2\n",
    "\n",
    "    # Plotting the k - attractiveness values\n",
    "\n",
    "    plt.figure(figsize = (10,7))\n",
    "\n",
    "    plt.scatter(new_values_k, new_keys_norm, color = 'orange', label = 'values')\n",
    "    plt.plot(np.exp(np.log(np.array(new_values_k))), np.exp(results[0]*np.log(np.array(new_values_k)) + results[1]), color = 'black', label = 'fit')\n",
    "\n",
    "    plt.title('Relation between the k and attractiveness with m = ' + str(m) + ' and node_num = ' + str(new_num_nodes_to_generate), fontsize = 18)\n",
    "    plt.xlabel('Degree distribution', fontsize = 14)\n",
    "    plt.ylabel('Attractiveness', fontsize = 14)\n",
    "\n",
    "    plt.xscale('log')\n",
    "    plt.yscale('log')\n",
    "    plt.legend(fontsize = 14)\n",
    "    plt.grid()\n",
    "\n",
    "    textstr = 'R squared value: ' + str(round(R_squared,3))\n",
    "    props = dict(boxstyle='round', facecolor='wheat', alpha=0.5)\n",
    "    plt.text(0.00028, 0.09, textstr, fontsize=14, verticalalignment='top', bbox=props)\n",
    "\n",
    "    #plt.savefig('attractiveness_k_m' + str(m) + '_noden' + str(new_num_nodes_to_generate) + '.jpg', dpi = 500)\n",
    "\n",
    "    plt.show()"
   ]
  },
  {
   "cell_type": "markdown",
   "metadata": {},
   "source": [
    "### Function for power law distribution and plotting"
   ]
  },
  {
   "cell_type": "code",
   "execution_count": 15,
   "metadata": {},
   "outputs": [],
   "source": [
    "def powerlaw_plotting(graph, name):\n",
    "    \n",
    "    # Power law distribution and clust coeff\n",
    "    fit = powerlaw.Fit(np.array(nx.degree(graph)).T[1])\n",
    "    clust = np.mean(list(nx.clustering(graph).values()))\n",
    "    \n",
    "    # Printing the clust coeff and power law alpha value\n",
    "    print(\"\\nClustering coefficient: \", clust)\n",
    "    print(\"Powerlaw coefficient: gamma =\", fit.power_law.alpha, \"\\n\")\n",
    "\n",
    "    # Plotting the results\n",
    "    plt.figure(figsize=(10,7))\n",
    "\n",
    "    fit.power_law.plot_pdf(color = 'orange', linestyle='--', label='fit ccdf')\n",
    "    fit.plot_pdf(color = 'black', label = 'original')\n",
    "\n",
    "    plt.title(\"Probability density function of the \" + name + \" - powerlaw fitting\", fontsize = 14)\n",
    "    plt.xlabel(\"Degree\", fontsize = 14)\n",
    "    plt.ylabel(\"Probability\", fontsize = 14)\n",
    "\n",
    "    plt.legend(fontsize = 15)\n",
    "    plt.grid()\n",
    "    \n",
    "    #plt.savefig(name + \"_powerlaw_fit.jpg\", dpi = 400)\n",
    "    \n",
    "    plt.show()"
   ]
  },
  {
   "cell_type": "markdown",
   "metadata": {},
   "source": [
    "### Function for printing the gamma - beta relation"
   ]
  },
  {
   "cell_type": "code",
   "execution_count": 16,
   "metadata": {},
   "outputs": [],
   "source": [
    "def gamma_beta_print(gamma_list, beta_list):\n",
    "    \n",
    "    # Calculating the theoretical values\n",
    "    \n",
    "    theoretical_gamma_list = 1 + 1/np.array(beta_list)\n",
    "    \n",
    "    # Plotting the results\n",
    "    \n",
    "    plt.figure(figsize = (10,7))\n",
    "    \n",
    "    plt.scatter(beta_list, gamma_list, color = 'black', label = 'fitted values', linewidths = 0.1)\n",
    "    plt.plot(beta_list, theoretical_gamma_list, color = 'orange', label = 'theoretical values')\n",
    "    \n",
    "    plt.title('Theoretical and actual values of gamma in function of beta.', fontsize = 18)\n",
    "    plt.xlabel('Beta values', fontsize = 14)\n",
    "    plt.ylabel('Gamma values', fontsize = 14)\n",
    "    \n",
    "    plt.grid()\n",
    "    plt.legend(fontsize = 15)\n",
    "    \n",
    "    #plt.savefig(\"beta_gamma_relation.jpg\", dpi = 400)\n",
    "    \n",
    "    plt.show()"
   ]
  },
  {
   "cell_type": "markdown",
   "metadata": {},
   "source": [
    "# Calling the functions - generating the PSO network"
   ]
  },
  {
   "cell_type": "code",
   "execution_count": 17,
   "metadata": {},
   "outputs": [],
   "source": [
    "# Plot for the power law distribution\n",
    "#powerlaw_plotting(circle_network, 'PSO')\n",
    "\n",
    "# Plotting the gamma-beta distribution\n",
    "#gamma_beta_print(gamma_values, beta_values)\n",
    "\n",
    "# Plotting the generated network\n",
    "#network_plot(circle_network)\n",
    "\n",
    "# Plotting the circle \n",
    "#mpl.rcParams['agg.path.chunksize'] = 600\n",
    "#circle_plot(new_num_nodes_to_generate, inner_x, inner_y, circumf_x, circumf_y, coordinates)\n",
    "\n",
    "# Plotting the results for calculating the attractiveness - k function\n",
    "#attr_k_plot(attractiveness_calc(circle_network)[0], attractiveness_calc(circle_network)[1])"
   ]
  },
  {
   "cell_type": "code",
   "execution_count": 18,
   "metadata": {
    "scrolled": false
   },
   "outputs": [
    {
     "name": "stderr",
     "output_type": "stream",
     "text": [
      "Calculating best minimal value for power law fit\n",
      "C:\\Users\\Domonkos\\anaconda3\\lib\\site-packages\\powerlaw.py:699: RuntimeWarning: invalid value encountered in true_divide\n",
      "  (CDF_diff**2) /\n"
     ]
    }
   ],
   "source": [
    "# Setting some variables\n",
    "\n",
    "num_nodes_to_generate_first = 1\n",
    "new_num_nodes_to_generate = 1000\n",
    "\n",
    "m = 2\n",
    "beta = 0.8\n",
    "beta_values = np.array(range(1,101))/100\n",
    "\n",
    "# Creating list to store gamma values\n",
    "\n",
    "gamma_values = []\n",
    "\n",
    "#for betas in beta_values:\n",
    "\n",
    "# Generating the PSO\n",
    "coordinates = generating_circle(m, beta, new_num_nodes_to_generate, all_x_coord, all_y_coord, r_values, theta_values)\n",
    "\n",
    "# Generating the actual network\n",
    "circle_network = network_gen(coordinates)\n",
    "\n",
    "# Calculating the power law value\n",
    "fit = powerlaw.Fit(np.array(nx.degree(circle_network)).T[1])\n",
    "gamma_values.append(fit.power_law.alpha)"
   ]
  }
 ],
 "metadata": {
  "kernelspec": {
   "display_name": "Python 3",
   "language": "python",
   "name": "python3"
  },
  "language_info": {
   "codemirror_mode": {
    "name": "ipython",
    "version": 3
   },
   "file_extension": ".py",
   "mimetype": "text/x-python",
   "name": "python",
   "nbconvert_exporter": "python",
   "pygments_lexer": "ipython3",
   "version": "3.8.5"
  }
 },
 "nbformat": 4,
 "nbformat_minor": 4
}
