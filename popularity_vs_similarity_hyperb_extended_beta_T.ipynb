{
 "cells": [
  {
   "cell_type": "code",
   "execution_count": 1,
   "metadata": {},
   "outputs": [
    {
     "name": "stderr",
     "output_type": "stream",
     "text": [
      "C:\\Users\\Domonkos\\anaconda3\\lib\\site-packages\\numpy\\_distributor_init.py:30: UserWarning: loaded more than 1 DLL from .libs:\n",
      "C:\\Users\\Domonkos\\anaconda3\\lib\\site-packages\\numpy\\.libs\\libopenblas.PYQHXLVVQ7VESDPUVUADXEVJOBGHJPAY.gfortran-win_amd64.dll\n",
      "C:\\Users\\Domonkos\\anaconda3\\lib\\site-packages\\numpy\\.libs\\libopenblas.WCDJNK7YVMPZQ2ME2ZZHJJRJ3JIKNDB7.gfortran-win_amd64.dll\n",
      "  warnings.warn(\"loaded more than 1 DLL from .libs:\"\n"
     ]
    }
   ],
   "source": [
    "# Importing the neccessary libraries\n",
    "\n",
    "import numpy as np\n",
    "import pandas as pd\n",
    "import matplotlib.pyplot as plt\n",
    "import matplotlib.patches as mpatches\n",
    "import matplotlib as mpl\n",
    "\n",
    "from scipy import stats\n",
    "\n",
    "import networkx as nx\n",
    "import powerlaw\n",
    "\n",
    "import collections\n",
    "import random\n",
    "import heapq\n",
    "\n",
    "import math\n",
    "from math import pi"
   ]
  },
  {
   "cell_type": "markdown",
   "metadata": {},
   "source": [
    "## Functions\n",
    "#### Function for getting all the coordinates of a line between two points"
   ]
  },
  {
   "cell_type": "code",
   "execution_count": 2,
   "metadata": {},
   "outputs": [],
   "source": [
    "def intermediates(p1, p2, nb_points=8):\n",
    "    \n",
    "    x_spacing = (p2[0] - p1[0]) / (nb_points + 1)\n",
    "    y_spacing = (p2[1] - p1[1]) / (nb_points + 1)\n",
    "\n",
    "    return [[p1[0] + i * x_spacing, p1[1] +  i * y_spacing] \n",
    "            for i in range(1, nb_points+1)]"
   ]
  },
  {
   "cell_type": "markdown",
   "metadata": {},
   "source": [
    "#### Function for calculating the polar coordinates from the Cartesian coordinates"
   ]
  },
  {
   "cell_type": "code",
   "execution_count": 3,
   "metadata": {},
   "outputs": [],
   "source": [
    "def polar_coord(x, y):\n",
    "    \n",
    "    r = np.sqrt(x**2 + y**2)\n",
    "    \n",
    "    if y >= 0 and r != 0:\n",
    "        theta = math.acos(x/r)\n",
    "    elif y < 0:\n",
    "        theta = -math.acos(x/r)\n",
    "        \n",
    "    return [r, theta]"
   ]
  },
  {
   "cell_type": "markdown",
   "metadata": {},
   "source": [
    "#### Function for calculating the radial dst"
   ]
  },
  {
   "cell_type": "code",
   "execution_count": 4,
   "metadata": {},
   "outputs": [],
   "source": [
    "def radial_dst(theta1, theta2):\n",
    "    \n",
    "        dst1 = abs(theta1 - theta2)\n",
    "        dst2 = abs(2*math.pi - dst1)\n",
    "        \n",
    "        if dst1 < dst2:\n",
    "            return dst1\n",
    "        else:\n",
    "            return dst2"
   ]
  },
  {
   "cell_type": "markdown",
   "metadata": {},
   "source": [
    "## Generating the circle"
   ]
  },
  {
   "cell_type": "code",
   "execution_count": 5,
   "metadata": {},
   "outputs": [],
   "source": [
    "# Setting the parameters of the circle\n",
    "\n",
    "t = np.array(range(0,int(round(2*math.pi, 3)*1000)))/1000\n",
    "r = 1\n",
    "a = 0\n",
    "b = 0\n",
    "\n",
    "# Creating the circle circumf.\n",
    "\n",
    "circumf_x = r * np.array([math.cos(i) for i in t]) + a\n",
    "circumf_y = r * np.array([math.sin(i) for i in t]) + b"
   ]
  },
  {
   "cell_type": "code",
   "execution_count": 6,
   "metadata": {},
   "outputs": [],
   "source": [
    "# Getting all the inner points of the circle\n",
    "\n",
    "inner_coord = []\n",
    "\n",
    "for i in range(0,len(circumf_x)):\n",
    "    inner_coord += intermediates([0,0], [circumf_x[i],circumf_y[i]], 100)\n",
    "    \n",
    "# Transforming the inner_coord list of lists into np.array\n",
    "\n",
    "inner_x = np.array(inner_coord).T[0]\n",
    "inner_y = np.array(inner_coord).T[1]\n",
    "\n",
    "# Appending all the x and y coordinates together\n",
    "\n",
    "all_x_coord = list(circumf_x) + list(inner_x)\n",
    "all_y_coord = list(circumf_y) + list(inner_y)"
   ]
  },
  {
   "cell_type": "code",
   "execution_count": 7,
   "metadata": {},
   "outputs": [],
   "source": [
    "# Generating the polar coordinates from the Cartesian coordinates\n",
    "\n",
    "r_values = []\n",
    "theta_values = []\n",
    "\n",
    "for i in range(0,len(all_x_coord)):\n",
    "    \n",
    "    temp = polar_coord(all_x_coord[i], all_y_coord[i])\n",
    "    \n",
    "    r_values.append(temp[0])\n",
    "    theta_values.append(temp[1])"
   ]
  },
  {
   "cell_type": "code",
   "execution_count": 8,
   "metadata": {},
   "outputs": [
    {
     "data": {
      "image/png": "[encoded data removed]",
      "text/plain": [
       "<Figure size 360x360 with 1 Axes>"
      ]
     },
     "metadata": {
      "needs_background": "light"
     },
     "output_type": "display_data"
    }
   ],
   "source": [
    "# Plotting the circle\n",
    "\n",
    "plt.figure(figsize = (5,5))\n",
    "plt.plot(all_x_coord, all_y_coord, color = 'firebrick', label = 'circle')\n",
    "\n",
    "plt.title('The generated circle with r = ' + str(r) + ', a = ' + str(a) + ', b = ' + str(b), fontsize = 16)\n",
    "plt.xlabel('x', fontsize = 14)\n",
    "plt.ylabel('y', fontsize = 14)\n",
    "\n",
    "plt.legend(fontsize = 14)\n",
    "plt.grid()\n",
    "plt.show()"
   ]
  },
  {
   "cell_type": "markdown",
   "metadata": {},
   "source": [
    "# Functions"
   ]
  },
  {
   "cell_type": "markdown",
   "metadata": {},
   "source": [
    "### Function for generating and adding nodes to the circle"
   ]
  },
  {
   "cell_type": "code",
   "execution_count": 62,
   "metadata": {},
   "outputs": [],
   "source": [
    "def generating_circle(new_num_nodes_to_generate, T, beta, m, zeta): \n",
    "\n",
    "    # Creating lists to save the generated coordinates and probabilities of connections\n",
    "    generated_coordinates = []\n",
    "    \n",
    "    # Creating lists for the r, theta and nodes\n",
    "    r_list = []\n",
    "    theta_list = []\n",
    "    node_list = []\n",
    "\n",
    "    # Generating the first random coordinates\n",
    "    \n",
    "    r_list.append(2/zeta*math.log(1))\n",
    "    theta = np.random.uniform(0,int(2*math.pi*10000))/10000 - math.pi\n",
    "    theta_list.append(theta) \n",
    "    node_list.append(1)\n",
    "    \n",
    "    # Generating N coordinates\n",
    "\n",
    "    for i in range(2, new_num_nodes_to_generate):\n",
    "        \n",
    "        #\n",
    "        x_st_list = []\n",
    "        prob_connection = []\n",
    "        \n",
    "        #new r and theta\n",
    "        r = 2/zeta*math.log(i)\n",
    "        while theta in theta_list:\n",
    "            theta = np.random.uniform(0,int(2*math.pi*1000000))/1000000# - math.pi\n",
    "        \n",
    "        #appending the values\n",
    "        r_list.append(r)\n",
    "        theta_list.append(theta)\n",
    "        node_list.append(i)\n",
    "        \n",
    "        #updating the r values\n",
    "        for j in range(0,len(r_list)-1):\n",
    "            \n",
    "            #calculating the new r values\n",
    "            r_list[j] = beta*r_list[j] + (1 - beta)*r        \n",
    "        \n",
    "            #calculating the R_i\n",
    "            if beta < 1:\n",
    "                R_i = r - (2/zeta) * math.log( (2*T / math.sin(T*math.pi)) * (1 - math.exp((zeta/2) * (beta-1) * r))/(m * (1 - beta)))\n",
    "            elif beta == 1:\n",
    "                R_i = r - (2/zeta) * math.log( (2*T / math.sin(T*math.pi)) * zeta*r/m)\n",
    "                \n",
    "            #calculating the probability of connection\n",
    "            #print(radial_dst(theta_list[j], theta))\n",
    "            x_st = r + r_list[j] + (2/zeta)*math.log(radial_dst(theta_list[j], theta)/2)\n",
    "            p_st = (1 / (1 + math.exp((x_st - R_i) * zeta / (2*T) )))\n",
    "            \n",
    "            #appending the probabilities to a list\n",
    "            #x_st_list.append([x_st, (j, i)])\n",
    "            prob_connection.append([p_st, (j+1, i)])\n",
    "\n",
    "    \n",
    "        #filtering out the highest probabilities and appending to the generated_coordinates\n",
    "        temp_largest_values = heapq.nlargest(m, prob_connection)\n",
    "        for kk in range(0,len(temp_largest_values)):\n",
    "            generated_coordinates.append(temp_largest_values[kk])\n",
    "        #temp_largest_values_xst = heapq.nsmallest(m, x_st_list)\n",
    "        #for kk in range(0,len(temp_largest_values_xst)):\n",
    "        #    generated_coordinates.append(temp_largest_values_xst[kk])\n",
    "\n",
    "    return [generated_coordinates, [r_list, theta_list, node_list]]"
   ]
  },
  {
   "cell_type": "markdown",
   "metadata": {},
   "source": [
    "### Function for generating a corresponding network"
   ]
  },
  {
   "cell_type": "code",
   "execution_count": 10,
   "metadata": {},
   "outputs": [],
   "source": [
    "def network_gen(nodes, edges):\n",
    "\n",
    "    # Creating the graph\n",
    "\n",
    "    circle_graph = nx.Graph()\n",
    "\n",
    "    # Adding the nodes\n",
    "\n",
    "    for i in range(0,len(nodes)):\n",
    "        circle_graph.add_node(nodes[i])\n",
    "\n",
    "    # Adding the weights\n",
    "\n",
    "    for i in range(0,len(edges.T)):\n",
    "        circle_graph.add_edge(edges[0][i], edges[1][i])\n",
    "        \n",
    "    return circle_graph"
   ]
  },
  {
   "cell_type": "markdown",
   "metadata": {},
   "source": [
    "### Function for plotting the network layout"
   ]
  },
  {
   "cell_type": "code",
   "execution_count": 11,
   "metadata": {},
   "outputs": [],
   "source": [
    "def network_plot(graph):\n",
    "\n",
    "    # Plotting the graph\n",
    "\n",
    "    plt.figure(figsize = (9,9))\n",
    "\n",
    "    # Setting the layout\n",
    "\n",
    "    pos_cust = nx.kamada_kawai_layout(graph)\n",
    "\n",
    "    # Drawing the graph\n",
    "\n",
    "    nx.draw(graph, pos = pos_cust, node_color = 'firebrick', node_size=10, width = 0.5)\n",
    "\n",
    "    #plt.savefig('network_layout_circle.jpg', dpi=400)"
   ]
  },
  {
   "cell_type": "markdown",
   "metadata": {},
   "source": [
    "### Function for power law distribution and plotting"
   ]
  },
  {
   "cell_type": "code",
   "execution_count": 12,
   "metadata": {},
   "outputs": [],
   "source": [
    "def powerlaw_plotting(graph, name):\n",
    "    \n",
    "    # Power law distribution and clust coeff\n",
    "    fit = powerlaw.Fit(np.array(nx.degree(graph)).T[1])\n",
    "    clust = np.mean(list(nx.clustering(graph).values()))\n",
    "    \n",
    "    # Printing the clust coeff and power law alpha value\n",
    "    print(\"\\nClustering coefficient: \", clust)\n",
    "    print(\"Powerlaw coefficient: gamma =\", fit.power_law.alpha, \"\\n\")\n",
    "\n",
    "    # Plotting the results\n",
    "    plt.figure(figsize=(10,7))\n",
    "\n",
    "    fit.power_law.plot_pdf(color = 'orange', linestyle='--', label='fit ccdf')\n",
    "    fit.plot_pdf(color = 'black', label = 'original')\n",
    "\n",
    "    plt.title(\"Probability density function of the \" + name + \" - powerlaw fitting\", fontsize = 14)\n",
    "    plt.xlabel(\"Degree\", fontsize = 14)\n",
    "    plt.ylabel(\"Probability\", fontsize = 14)\n",
    "\n",
    "    plt.legend(fontsize = 15)\n",
    "    plt.grid()\n",
    "    \n",
    "    #plt.savefig(name + \"_powerlaw_fit.jpg\", dpi = 400)\n",
    "    \n",
    "    plt.show()"
   ]
  },
  {
   "cell_type": "markdown",
   "metadata": {},
   "source": [
    "### Function for printing the gamma - beta relation"
   ]
  },
  {
   "cell_type": "code",
   "execution_count": 13,
   "metadata": {},
   "outputs": [],
   "source": [
    "def gamma_beta_print(gamma_list, beta_list, y_lower, y_upper, x_lower, x_upper, save_img):\n",
    "    \n",
    "    # Calculating the theoretical values\n",
    "    \n",
    "    theoretical_gamma_list = 1 + 1/np.array(beta_list)\n",
    "    \n",
    "    # Plotting the results\n",
    "    \n",
    "    plt.figure(figsize = (10,7))\n",
    "    \n",
    "    plt.scatter(beta_list, gamma_list, color = 'black', label = 'fitted values', linewidths = 0.1)\n",
    "    plt.plot(beta_list, theoretical_gamma_list, color = 'orange', label = 'theoretical values')\n",
    "    \n",
    "    plt.title('Theoretical and actual values of gamma in function of beta.', fontsize = 18)\n",
    "    plt.xlabel('Beta values', fontsize = 14)\n",
    "    plt.ylabel('Gamma values', fontsize = 14)\n",
    "    \n",
    "    plt.ylim(y_lower,y_upper)\n",
    "    plt.xlim(x_lower, x_upper)\n",
    "    \n",
    "    plt.grid()\n",
    "    plt.legend(fontsize = 15)\n",
    "    \n",
    "    if save_img == True:\n",
    "        plt.savefig(\"beta_gamma_relation.jpg\", dpi = 400)\n",
    "    \n",
    "    plt.show()"
   ]
  },
  {
   "cell_type": "markdown",
   "metadata": {},
   "source": [
    "### Creating a function for calculating the degree distribution"
   ]
  },
  {
   "cell_type": "code",
   "execution_count": 14,
   "metadata": {},
   "outputs": [],
   "source": [
    "def plot_degree_histogram(g, normalized=False):\n",
    "\n",
    "    aux_y = nx.degree_histogram(g)\n",
    "    aux_x = np.arange(0,len(aux_y)).tolist()\n",
    "    n_nodes = g.number_of_nodes()\n",
    "    \n",
    "    if normalized:\n",
    "        for i in range(len(aux_y)):\n",
    "            aux_y[i] = aux_y[i]/n_nodes\n",
    "    \n",
    "    return aux_x, aux_y"
   ]
  },
  {
   "cell_type": "code",
   "execution_count": 15,
   "metadata": {},
   "outputs": [],
   "source": [
    "def network_gen2(nodes, edges):\n",
    "\n",
    "    # Creating the graph\n",
    "\n",
    "    circle_graph = nx.Graph()\n",
    "\n",
    "    # Adding the nodes\n",
    "\n",
    "    for i in range(0,len(nodes)):\n",
    "        circle_graph.add_node(nodes[i])\n",
    "\n",
    "    # Adding the weights\n",
    "\n",
    "    for i in range(0,len(edges)):\n",
    "        circle_graph.add_edge(edges[i][0], edges[i][1])\n",
    "        \n",
    "    return circle_graph"
   ]
  },
  {
   "cell_type": "markdown",
   "metadata": {},
   "source": [
    "# Calling the functions - generating the PSO network"
   ]
  },
  {
   "cell_type": "code",
   "execution_count": 16,
   "metadata": {},
   "outputs": [],
   "source": [
    "# Plot for the power law distribution\n",
    "#powerlaw_plotting(circle_network, 'PSO')\n",
    "\n",
    "# Plotting the gamma-beta distribution\n",
    "#gamma_beta_print(gamma_values, beta_values)\n",
    "\n",
    "# Plotting the generated network\n",
    "#network_plot(circle_network)\n",
    "\n",
    "# Plotting the circle \n",
    "#mpl.rcParams['agg.path.chunksize'] = 600\n",
    "#circle_plot(new_num_nodes_to_generate, inner_x, inner_y, circumf_x, circumf_y, coordinates)\n",
    "\n",
    "# Plotting the results for calculating the attractiveness - k function\n",
    "#attr_k_plot(attractiveness_calc(circle_network)[0], attractiveness_calc(circle_network)[1])"
   ]
  },
  {
   "cell_type": "code",
   "execution_count": 97,
   "metadata": {},
   "outputs": [
    {
     "name": "stderr",
     "output_type": "stream",
     "text": [
      "<ipython-input-97-3a9a9c099204>:25: VisibleDeprecationWarning: Creating an ndarray from ragged nested sequences (which is a list-or-tuple of lists-or-tuples-or ndarrays with different lengths or shapes) is deprecated. If you meant to do this, you must specify 'dtype=object' when creating the ndarray\n",
      "  edges = np.array(generated_coordinates).T[1]\n",
      "Calculating best minimal value for power law fit\n",
      "C:\\Users\\Domonkos\\anaconda3\\lib\\site-packages\\powerlaw.py:699: RuntimeWarning: invalid value encountered in true_divide\n",
      "  (CDF_diff**2) /\n"
     ]
    },
    {
     "data": {
      "image/png": "[encoded data removed]",
      "text/plain": [
       "<Figure size 720x504 with 1 Axes>"
      ]
     },
     "metadata": {
      "needs_background": "light"
     },
     "output_type": "display_data"
    }
   ],
   "source": [
    "# Setting some variables\n",
    "\n",
    "new_num_nodes_to_generate = 1000\n",
    "\n",
    "m = 2\n",
    "T = 0.9\n",
    "zeta = 1\n",
    "#beta_values = np.array(range(90,101))/100\n",
    "beta_values = [1]\n",
    "\n",
    "# Creating list to store gamma values\n",
    "\n",
    "gamma_values = []\n",
    "\n",
    "for betas in beta_values:\n",
    "\n",
    "    # Calling the coordinates function\n",
    "\n",
    "    coordinates_temp = generating_circle(new_num_nodes_to_generate, T, betas, m, zeta)\n",
    "\n",
    "    # Extracting the values\n",
    "\n",
    "    generated_coordinates = coordinates_temp[0]\n",
    "    #edges = np.array(list(np.array(generated_coordinates).T[1])).T\n",
    "    edges = np.array(generated_coordinates).T[1]\n",
    "    #r_values = coordinates_temp[1][0]\n",
    "    #theta_values = coordinates_temp[1][1]\n",
    "    nodes = coordinates_temp[1][2]\n",
    "\n",
    "    # Generating the actual network\n",
    "    circle_network = network_gen2(nodes, edges)\n",
    "    \n",
    "    # Calculating the power law value\n",
    "    fit = powerlaw.Fit(np.array(nx.degree(circle_network)).T[1])\n",
    "    gamma_values.append(fit.power_law.alpha)\n",
    "    \n",
    "    \n",
    "# Plotting the gamma-beta distribution\n",
    "\n",
    "y_lower = 2\n",
    "y_upper = 3\n",
    "\n",
    "x_lower = 0.89\n",
    "x_upper = 1.01\n",
    "\n",
    "save_img = False\n",
    "\n",
    "gamma_beta_print(gamma_values, beta_values, y_lower, y_upper, x_lower, x_upper, save_img)"
   ]
  },
  {
   "cell_type": "code",
   "execution_count": 115,
   "metadata": {},
   "outputs": [
    {
     "data": {
      "image/png": "[encoded data removed]",
      "text/plain": [
       "<Figure size 720x504 with 1 Axes>"
      ]
     },
     "metadata": {
      "needs_background": "light"
     },
     "output_type": "display_data"
    }
   ],
   "source": [
    "plt.figure(figsize = (10,7))\n",
    "plt.plot(gamma_vals, 'o', markersize = 14, color = 'lightcoral', label = 'Values')\n",
    "\n",
    "plt.title('The gamma values for beta = 1', fontsize = 16)\n",
    "plt.xlabel('Counter', fontsize = 14)\n",
    "plt.ylabel('Gamma values', fontsize = 14)\n",
    "\n",
    "plt.ylim(2,3)\n",
    "\n",
    "plt.legend(fontsize = 14)\n",
    "plt.grid()\n",
    "\n",
    "if savefig == True:\n",
    "    plt.savefig('gamma_values.jpg', dpi = 400)\n",
    "\n",
    "plt.show()"
   ]
  },
  {
   "cell_type": "code",
   "execution_count": null,
   "metadata": {},
   "outputs": [],
   "source": []
  }
 ],
 "metadata": {
  "kernelspec": {
   "display_name": "Python 3",
   "language": "python",
   "name": "python3"
  },
  "language_info": {
   "codemirror_mode": {
    "name": "ipython",
    "version": 3
   },
   "file_extension": ".py",
   "mimetype": "text/x-python",
   "name": "python",
   "nbconvert_exporter": "python",
   "pygments_lexer": "ipython3",
   "version": "3.8.5"
  }
 },
 "nbformat": 4,
 "nbformat_minor": 4
}
