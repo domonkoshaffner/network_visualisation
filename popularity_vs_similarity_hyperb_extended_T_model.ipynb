{
 "cells": [
  {
   "cell_type": "code",
   "execution_count": 1,
   "metadata": {},
   "outputs": [
    {
     "name": "stderr",
     "output_type": "stream",
     "text": [
      "C:\\Users\\Domonkos\\anaconda3\\lib\\site-packages\\numpy\\_distributor_init.py:30: UserWarning: loaded more than 1 DLL from .libs:\n",
      "C:\\Users\\Domonkos\\anaconda3\\lib\\site-packages\\numpy\\.libs\\libopenblas.PYQHXLVVQ7VESDPUVUADXEVJOBGHJPAY.gfortran-win_amd64.dll\n",
      "C:\\Users\\Domonkos\\anaconda3\\lib\\site-packages\\numpy\\.libs\\libopenblas.WCDJNK7YVMPZQ2ME2ZZHJJRJ3JIKNDB7.gfortran-win_amd64.dll\n",
      "  warnings.warn(\"loaded more than 1 DLL from .libs:\"\n"
     ]
    }
   ],
   "source": [
    "# Importing the neccessary libraries\n",
    "\n",
    "import numpy as np\n",
    "import pandas as pd\n",
    "import matplotlib.pyplot as plt\n",
    "import matplotlib.patches as mpatches\n",
    "import matplotlib as mpl\n",
    "\n",
    "from scipy import stats\n",
    "\n",
    "import networkx as nx\n",
    "import powerlaw\n",
    "\n",
    "import collections\n",
    "import random\n",
    "import heapq\n",
    "\n",
    "import math\n",
    "from math import pi"
   ]
  },
  {
   "cell_type": "markdown",
   "metadata": {},
   "source": [
    "## Functions\n",
    "#### Function for getting all the coordinates of a line between two points"
   ]
  },
  {
   "cell_type": "code",
   "execution_count": 2,
   "metadata": {},
   "outputs": [],
   "source": [
    "def intermediates(p1, p2, nb_points=8):\n",
    "    \n",
    "    x_spacing = (p2[0] - p1[0]) / (nb_points + 1)\n",
    "    y_spacing = (p2[1] - p1[1]) / (nb_points + 1)\n",
    "\n",
    "    return [[p1[0] + i * x_spacing, p1[1] +  i * y_spacing] \n",
    "            for i in range(1, nb_points+1)]"
   ]
  },
  {
   "cell_type": "markdown",
   "metadata": {},
   "source": [
    "#### Function for calculating the polar coordinates from the Cartesian coordinates"
   ]
  },
  {
   "cell_type": "code",
   "execution_count": 3,
   "metadata": {},
   "outputs": [],
   "source": [
    "def polar_coord(x, y):\n",
    "    \n",
    "    r = np.sqrt(x**2 + y**2)\n",
    "    \n",
    "    if y >= 0 and r != 0:\n",
    "        theta = math.acos(x/r)\n",
    "    elif y < 0:\n",
    "        theta = -math.acos(x/r)\n",
    "        \n",
    "    return [r, theta]"
   ]
  },
  {
   "cell_type": "markdown",
   "metadata": {},
   "source": [
    "#### Function for calculating the radial dst"
   ]
  },
  {
   "cell_type": "code",
   "execution_count": 4,
   "metadata": {},
   "outputs": [],
   "source": [
    "def radial_dst(theta1, theta2):\n",
    "    \n",
    "    if theta1 > 0 and theta2 > 0 or theta1 < 0 and theta2 < 0:\n",
    "        dst = abs(theta2 - theta1)\n",
    "    elif theta1 == 0 and theta2 > 0 or theta1 == 0 and theta2 < 0 or theta1 > 0 and theta2 == 0 or theta1 < 0 and theta2 == 0:\n",
    "        dst = abs(theta2 - theta1)\n",
    "    elif pi/2 >= theta1 > 0 and 0 > theta2 >= -pi/2 or pi/2 >= theta2 > 0 and 0 > theta1 >= -pi/2:\n",
    "        dst = abs(theta1) + abs(theta2)\n",
    "    elif pi/2 > theta1 >= 0 and -pi/2 > theta2 > -pi or pi/2 > theta2 >= 0 and -pi/2 > theta1 > -pi:\n",
    "        dst = abs(theta2) + abs(theta1)\n",
    "    elif 0 > theta1 >= -pi/2 and pi > theta2 > pi/2 or 0 > theta2 >= -pi/2 and pi > theta1 > pi/2:\n",
    "        dst = abs(theta2) + abs(theta1)\n",
    "    elif pi >= theta1 > pi/2 and -pi/2 > theta2 >= -pi:\n",
    "        dst = abs(pi - theta1) + abs(-pi - theta2)\n",
    "    elif pi >= theta2 > pi/2 and -pi/2 > theta1 >= -pi:\n",
    "        dst = abs(pi - theta2) + abs(-pi - theta1)\n",
    "    elif theta1 == 0 and theta2 == 0:\n",
    "        dst = 0\n",
    "    \n",
    "    return dst"
   ]
  },
  {
   "cell_type": "markdown",
   "metadata": {},
   "source": [
    "## Generating the circle"
   ]
  },
  {
   "cell_type": "code",
   "execution_count": 5,
   "metadata": {},
   "outputs": [],
   "source": [
    "# Setting the parameters of the circle\n",
    "\n",
    "t = np.array(range(0,int(round(2*math.pi, 3)*1000)))/1000\n",
    "r = 1\n",
    "a = 0\n",
    "b = 0\n",
    "\n",
    "# Creating the circle circumf.\n",
    "\n",
    "circumf_x = r * np.array([math.cos(i) for i in t]) + a\n",
    "circumf_y = r * np.array([math.sin(i) for i in t]) + b"
   ]
  },
  {
   "cell_type": "code",
   "execution_count": 6,
   "metadata": {},
   "outputs": [],
   "source": [
    "# Getting all the inner points of the circle\n",
    "\n",
    "inner_coord = []\n",
    "\n",
    "for i in range(0,len(circumf_x)):\n",
    "    inner_coord += intermediates([0,0], [circumf_x[i],circumf_y[i]], 100)\n",
    "    \n",
    "# Transforming the inner_coord list of lists into np.array\n",
    "\n",
    "inner_x = np.array(inner_coord).T[0]\n",
    "inner_y = np.array(inner_coord).T[1]\n",
    "\n",
    "# Appending all the x and y coordinates together\n",
    "\n",
    "all_x_coord = list(circumf_x) + list(inner_x)\n",
    "all_y_coord = list(circumf_y) + list(inner_y)"
   ]
  },
  {
   "cell_type": "code",
   "execution_count": 7,
   "metadata": {},
   "outputs": [],
   "source": [
    "# Generating the polar coordinates from the Cartesian coordinates\n",
    "\n",
    "r_values = []\n",
    "theta_values = []\n",
    "\n",
    "for i in range(0,len(all_x_coord)):\n",
    "    \n",
    "    temp = polar_coord(all_x_coord[i], all_y_coord[i])\n",
    "    \n",
    "    r_values.append(temp[0])\n",
    "    theta_values.append(temp[1])"
   ]
  },
  {
   "cell_type": "code",
   "execution_count": 8,
   "metadata": {},
   "outputs": [
    {
     "data": {
      "image/png": "[encoded data removed]",
      "text/plain": [
       "<Figure size 360x360 with 1 Axes>"
      ]
     },
     "metadata": {
      "needs_background": "light"
     },
     "output_type": "display_data"
    }
   ],
   "source": [
    "# Plotting the circle\n",
    "\n",
    "plt.figure(figsize = (5,5))\n",
    "plt.plot(all_x_coord, all_y_coord, color = 'firebrick', label = 'circle')\n",
    "\n",
    "plt.title('The generated circle with r = ' + str(r) + ', a = ' + str(a) + ', b = ' + str(b), fontsize = 16)\n",
    "plt.xlabel('x', fontsize = 14)\n",
    "plt.ylabel('y', fontsize = 14)\n",
    "\n",
    "plt.legend(fontsize = 14)\n",
    "plt.grid()\n",
    "plt.show()"
   ]
  },
  {
   "cell_type": "markdown",
   "metadata": {},
   "source": [
    "# Functions"
   ]
  },
  {
   "cell_type": "markdown",
   "metadata": {},
   "source": [
    "### Function for generating and adding nodes to the circle"
   ]
  },
  {
   "cell_type": "code",
   "execution_count": 48,
   "metadata": {},
   "outputs": [],
   "source": [
    "def generating_circle(new_num_nodes_to_generate, all_x_coord, all_y_coord, r_values, theta_values, T):\n",
    "    \n",
    "    # Node list\n",
    "    nodes = []    \n",
    "\n",
    "    # Creating lists to save the generated coordinates\n",
    "    generated_coordinates = []\n",
    "\n",
    "    # Saving all the generated numbers in a list\n",
    "    generated_random_nums = []\n",
    "    \n",
    "    # Saving the coordinates as a temp list\n",
    "    temp_temp_list = []\n",
    "\n",
    "    # Generating random numbers and placing them in the circle\n",
    "    \n",
    "    for i in range(0,num_nodes_to_generate_first):\n",
    "\n",
    "        #random index\n",
    "        random_index = random.randint(0,len(all_x_coord))\n",
    "        generated_random_nums.append(random_index)\n",
    "\n",
    "        #saving the generated coordinates into a dictionary\n",
    "        temp = [all_x_coord[random_index], all_y_coord[random_index], r_values[random_index], theta_values[random_index]]\n",
    "        temp_temp_list.append(temp)\n",
    "\n",
    "        generated_coordinates.append((temp, (i+1), -999))\n",
    "        \n",
    "    # Appending the first node\n",
    "    nodes.append([[all_x_coord[random_index], all_y_coord[random_index]], i+1])\n",
    "\n",
    "\n",
    "    # Generating random numbers and placing them in the circle\n",
    "\n",
    "    for i in range(0,new_num_nodes_to_generate):\n",
    "\n",
    "        #random index\n",
    "        while random_index in generated_random_nums:\n",
    "            random_index = random.randint(0,len(all_x_coord))\n",
    "        generated_random_nums.append(random_index)\n",
    "\n",
    "        #getting the coordinates\n",
    "        temp = [all_x_coord[random_index], all_y_coord[random_index], r_values[random_index], theta_values[random_index]]\n",
    "        temp_temp_list.append(temp)\n",
    "        \n",
    "        #new node\n",
    "        nodes.append([[all_x_coord[random_index], all_y_coord[random_index]], i + num_nodes_to_generate_first + 1])\n",
    "\n",
    "        #measuring the distance between the new node and all the previous nodes\n",
    "        for j in range(0,len(temp_temp_list)):\n",
    "            \n",
    "            #checking if theta > 0:\n",
    "            if radial_dst(temp[3], temp_temp_list[j][3]) > 0.0001:\n",
    "\n",
    "                #calling the radial_dst func and saving the theta values in a list\n",
    "                #x_st = math.log((j+1)*(i+1)*radial_dst(temp[3], generated_coordinates[j][0][3])/2)\n",
    "                x_st = temp[2] + temp_temp_list[j][2] + math.log(radial_dst(temp[3], temp_temp_list[j][3])/2)\n",
    "                p_st = (1 / (1 + math.exp((x_st - r_values[i]) / T)))\n",
    "                \n",
    "                #if probability > p_st, node appended\n",
    "                p_st_rand = random.randint(0,10000) / 10000\n",
    "\n",
    "                if p_st_rand <= p_st:\n",
    "                    #appending the new node to the generated coordinates\n",
    "                    generated_coordinates.append((temp, i + num_nodes_to_generate_first + 1, j + 1))\n",
    "\n",
    "\n",
    "    return [generated_coordinates, nodes, temp_temp_list]"
   ]
  },
  {
   "cell_type": "markdown",
   "metadata": {},
   "source": [
    "### Function for plotting the results of the circle with nodes"
   ]
  },
  {
   "cell_type": "code",
   "execution_count": 55,
   "metadata": {
    "scrolled": false
   },
   "outputs": [],
   "source": [
    "def circle_plot(new_num_nodes_to_generate, inner_x, inner_y, circumf_x, circumf_y, generated_coordinates, nodes, drawing):\n",
    "\n",
    "    # Plotting the circle with the generated points\n",
    "\n",
    "    plt.figure(figsize = (10,10))\n",
    "\n",
    "    # Plotting the circle\n",
    "    plt.plot(inner_x, inner_y, color = 'gold', alpha = 0.1)\n",
    "    plt.plot(circumf_x, circumf_y, color = 'orange')\n",
    "        \n",
    "    # Plotting the other nodes\n",
    "    for i in range(0,num_nodes_to_generate_first):\n",
    "        plt.plot(generated_coordinates[i][0][0], generated_coordinates[i][0][1], 'o', color = 'black', markersize = 5)    \n",
    "\n",
    "    # Plotting the original nodes\n",
    "    for i in range(1,len(nodes)):\n",
    "        plt.plot(nodes[i][0][0], nodes[i][0][1], 'o', color = 'firebrick', markersize = 5)\n",
    "        \n",
    "    # Plotting the newly connected nodes\n",
    "    for i in range(1, len(generated_coordinates)):\n",
    "        plt.plot(generated_coordinates[i][0][0], generated_coordinates[i][0][1], 'o', color = 'firebrick', markersize = 5)\n",
    "        plt.plot([generated_coordinates[i][0][0], generated_coordinates[generated_coordinates[i][2]-1][0][0]], [generated_coordinates[i][0][1], generated_coordinates[generated_coordinates[i][2]-1][0][1]], color = 'black', linewidth = 0.2)\n",
    "\n",
    "    # Setting the title and labels\n",
    "    plt.title('The generated circle with r = ' + str(r) + ', nodes = ' + str(new_num_nodes_to_generate+1), fontsize = 16)\n",
    "    plt.xlabel('x', fontsize = 14)\n",
    "    plt.ylabel('y', fontsize = 14)\n",
    "\n",
    "    # Setting the grid\n",
    "    plt.grid()\n",
    "\n",
    "    plt.savefig('cirlce_network_T_' + str(0.2) + '.jpg', dpi = 600)\n",
    "\n",
    "    plt.show()"
   ]
  },
  {
   "cell_type": "markdown",
   "metadata": {},
   "source": [
    "### Function for generating a corresponding network"
   ]
  },
  {
   "cell_type": "code",
   "execution_count": 11,
   "metadata": {},
   "outputs": [],
   "source": [
    "def network_gen(generated_coordinates, nodes):\n",
    "\n",
    "    # Creating the graph\n",
    "    circle_graph = nx.Graph()\n",
    "\n",
    "    # Adding the nodes\n",
    "    for i in nodes:\n",
    "        circle_graph.add_node(i[1])\n",
    "\n",
    "    # Adding the weights\n",
    "    for i in range(1,len(generated_coordinates)):\n",
    "        circle_graph.add_edge(coordinates[i][1], coordinates[i][2])\n",
    "        \n",
    "    # Returning the graph\n",
    "    return circle_graph"
   ]
  },
  {
   "cell_type": "markdown",
   "metadata": {},
   "source": [
    "### Function for plotting the network layout"
   ]
  },
  {
   "cell_type": "code",
   "execution_count": 12,
   "metadata": {},
   "outputs": [],
   "source": [
    "def network_plot(graph):\n",
    "\n",
    "    # Plotting the graph\n",
    "    plt.figure(figsize = (9,9))\n",
    "\n",
    "    # Setting the layout\n",
    "    pos_cust = nx.kamada_kawai_layout(graph)\n",
    "\n",
    "    # Drawing the graph\n",
    "    nx.draw(graph, pos = pos_cust, node_color = 'firebrick', node_size=10, width = 0.5)\n",
    "\n",
    "    #plt.savefig('network_layout_circle.jpg', dpi=400)"
   ]
  },
  {
   "cell_type": "markdown",
   "metadata": {},
   "source": [
    "# Calling the functions - generating the PSO network"
   ]
  },
  {
   "cell_type": "code",
   "execution_count": 13,
   "metadata": {},
   "outputs": [],
   "source": [
    "# Plotting the circle \n",
    "#mpl.rcParams['agg.path.chunksize'] = 600\n",
    "#circle_plot(new_num_nodes_to_generate, inner_x, inner_y, circumf_x, circumf_y, coordinates, nodes)\n",
    "\n",
    "# Plot for the power law distribution\n",
    "#powerlaw_plotting(circle_network, 'PSO')\n",
    "\n",
    "# Plotting the generated network\n",
    "#network_plot(circle_network)"
   ]
  },
  {
   "cell_type": "code",
   "execution_count": null,
   "metadata": {
    "scrolled": true
   },
   "outputs": [],
   "source": [
    "# Setting some variables\n",
    "num_nodes_to_generate_first = 1\n",
    "new_num_nodes_to_generate = 500\n",
    "\n",
    "# List for the clustering coeff\n",
    "clust_list = []\n",
    "\n",
    "# Defining T list\n",
    "T = np.array(range(1,10))/10\n",
    "\n",
    "# Iterating through the values\n",
    "for t in T:\n",
    "\n",
    "    # Generating the PSO\n",
    "    coordinates_temp = generating_circle(new_num_nodes_to_generate, all_x_coord, all_y_coord, r_values, theta_values, t)\n",
    "    coordinates = coordinates_temp[0]\n",
    "    nodes = coordinates_temp[1]\n",
    "\n",
    "    # Generating the actual network\n",
    "    circle_network = network_gen(coordinates, nodes)\n",
    "\n",
    "    # Calculating the clustering coefficient\n",
    "    clust_list.append(np.mean(list(nx.clustering(circle_network).values())))\n",
    "    \n",
    "    print(t)"
   ]
  },
  {
   "cell_type": "code",
   "execution_count": 54,
   "metadata": {},
   "outputs": [],
   "source": [
    "new_num_nodes_to_generate = 500\n",
    "\n",
    "# Generating the PSO\n",
    "coordinates_temp = generating_circle(new_num_nodes_to_generate, all_x_coord, all_y_coord, r_values, theta_values, 0.2)\n",
    "coordinates = coordinates_temp[0]\n",
    "nodes = coordinates_temp[1]\n",
    "drawing = coordinates_temp[2]\n",
    "\n",
    "# Generating the actual network\n",
    "circle_network = network_gen(coordinates, nodes)"
   ]
  },
  {
   "cell_type": "code",
   "execution_count": null,
   "metadata": {},
   "outputs": [],
   "source": [
    "# Plotting the circle \n",
    "#mpl.rcParams['agg.path.chunksize'] = 600\n",
    "circle_plot(new_num_nodes_to_generate, inner_x, inner_y, circumf_x, circumf_y, coordinates, nodes, drawing)"
   ]
  },
  {
   "cell_type": "code",
   "execution_count": 45,
   "metadata": {},
   "outputs": [
    {
     "data": {
      "image/png": "[encoded data removed]",
      "text/plain": [
       "<Figure size 720x504 with 1 Axes>"
      ]
     },
     "metadata": {
      "needs_background": "light"
     },
     "output_type": "display_data"
    }
   ],
   "source": [
    "# Plotting the clustering coefficient in the function of T\n",
    "\n",
    "plt.figure(figsize = (10,7))\n",
    "plt.plot(T, clust_list, color = 'black', label = 'Values')\n",
    "\n",
    "plt.title('The clustering coefficient in the function of T', fontsize = 16)\n",
    "plt.xlabel('T values', fontsize = 14)\n",
    "plt.ylabel('Clustering coefficient values', fontsize = 14)\n",
    "\n",
    "plt.legend(fontsize = 14)\n",
    "plt.grid()\n",
    "\n",
    "plt.savefig('clustering_T.jpg', dpi = 400)\n",
    "\n",
    "plt.show()"
   ]
  },
  {
   "cell_type": "code",
   "execution_count": null,
   "metadata": {},
   "outputs": [],
   "source": []
  }
 ],
 "metadata": {
  "kernelspec": {
   "display_name": "Python 3",
   "language": "python",
   "name": "python3"
  },
  "language_info": {
   "codemirror_mode": {
    "name": "ipython",
    "version": 3
   },
   "file_extension": ".py",
   "mimetype": "text/x-python",
   "name": "python",
   "nbconvert_exporter": "python",
   "pygments_lexer": "ipython3",
   "version": "3.8.5"
  }
 },
 "nbformat": 4,
 "nbformat_minor": 4
}
